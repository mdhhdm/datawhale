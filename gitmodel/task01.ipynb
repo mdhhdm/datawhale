{
 "cells": [
  {
   "cell_type": "markdown",
   "metadata": {
    "pycharm": {
     "name": "#%% md\n"
    }
   },
   "source": [
    "高等数学与数值计算"
   ]
  },
  {
   "cell_type": "markdown",
   "source": [
    "💼 任务来袭\n",
    "GitModel 公司对面试的实习生给出了这样一个问题 : 搜集 1950-2020 年间美国人口数据 猜测其满足的函数关系 并综合数据预测美国  年的人口数. 公司希望实习生就以下的开放性问题给出自己的想法，公司要求实习生提交预测的思路 模型 算法以及结果. 面试官给出了如下提示 : 预测值与真实值存在误差 该问题如何转化为可用上述所学的知识解决的问题呢?"
   ],
   "metadata": {
    "collapsed": false,
    "pycharm": {
     "name": "#%% md\n"
    }
   }
  },
  {
   "cell_type": "code",
   "execution_count": null,
   "outputs": [],
   "source": [
    "year = [2022, 2021, 2020, 2019, 2018, 2017, 2016, 2015, 2014, 2013, 2012, 2011, 2010, 2009, 2008, 2007, 2006, 2005, 2004, 2003, 2002, 2001, 2000, 1999, 1998, 1997, 1996, 1995, 1994, 1993, 1992, 1991, 1990, 1989, 1988, 1987, 1986, 1985, 1984, 1983, 1982, 1981, 1980, 1979, 1978, 1977, 1976, 1975, 1974, 1973, 1972, 1971, 1970, 1969, 1968, 1967, 1966, 1965, 1964, 1963, 1962, 1961, 1960, 1959, 1958, 1957, 1956, 1955, 1954, 1953, 1952, 1951, 1950]\n",
    "total = [334805269, 332915073, 331002651, 329064917, 327096265, 325084756, 323015995, 320878310, 318673411, 316400538, 314043885, 311584047, 309011475, 306307567, 303486012, 300608429, 297758969, 294993511, 292354658, 289815562, 287279318, 284607993, 281710909, 278548150, 275175301, 271713635, 268335003, 265163745, 262241196, 259532129, 256990613, 254539370, 252120309, 249725805, 247372264, 245052789, 242763148, 240499825, 238256844, 236030238, 233821844, 231636058, 229476354, 227339318, 225223303, 223135663, 221086429, 219081251, 217114909, 215178797, 213269802, 211384068, 209513341, 207659263, 205805754, 203905080, 201895760, 199733676, 197408505, 194932403, 192313746, 189569843, 186720571, 183786252, 180788392, 177751483, 174705003, 171685336, 168736387, 165910003, 163266028, 160872266, 158804395]"
   ],
   "metadata": {
    "collapsed": false,
    "pycharm": {
     "name": "#%%\n"
    }
   }
  },
  {
   "cell_type": "code",
   "execution_count": null,
   "outputs": [],
   "source": [
    "print(year)"
   ],
   "metadata": {
    "collapsed": false,
    "pycharm": {
     "name": "#%%\n"
    }
   }
  },
  {
   "cell_type": "code",
   "execution_count": null,
   "outputs": [],
   "source": [
    "print(total)"
   ],
   "metadata": {
    "collapsed": false,
    "pycharm": {
     "name": "#%%\n"
    }
   }
  },
  {
   "cell_type": "code",
   "execution_count": null,
   "outputs": [],
   "source": [
    "import matplotlib.pyplot as plt"
   ],
   "metadata": {
    "collapsed": false,
    "pycharm": {
     "name": "#%%\n"
    }
   }
  },
  {
   "cell_type": "code",
   "execution_count": null,
   "outputs": [],
   "source": [
    "plt.scatter(year,total,label='美国人口')\n",
    "plt.show()"
   ],
   "metadata": {
    "collapsed": false,
    "pycharm": {
     "name": "#%%\n"
    }
   }
  },
  {
   "cell_type": "markdown",
   "source": [
    "一阶函数拟合"
   ],
   "metadata": {
    "collapsed": false,
    "pycharm": {
     "name": "#%% md\n"
    }
   }
  },
  {
   "cell_type": "code",
   "execution_count": null,
   "outputs": [],
   "source": [
    "from numpy import polyfit,poly1d\n",
    "import numpy as np"
   ],
   "metadata": {
    "collapsed": false,
    "pycharm": {
     "name": "#%%\n"
    }
   }
  },
  {
   "cell_type": "code",
   "execution_count": null,
   "outputs": [],
   "source": [
    "y = total[2:]\n",
    "print(y)"
   ],
   "metadata": {
    "collapsed": false,
    "pycharm": {
     "name": "#%%\n"
    }
   }
  },
  {
   "cell_type": "code",
   "execution_count": null,
   "outputs": [],
   "source": [
    "x = year[2:]\n",
    "print(x)"
   ],
   "metadata": {
    "collapsed": false,
    "pycharm": {
     "name": "#%%\n"
    }
   }
  },
  {
   "cell_type": "code",
   "execution_count": null,
   "outputs": [],
   "source": [
    "coeff = polyfit(x,y,1)\n",
    "print(coeff)"
   ],
   "metadata": {
    "collapsed": false,
    "pycharm": {
     "name": "#%%\n"
    }
   }
  },
  {
   "cell_type": "code",
   "execution_count": null,
   "outputs": [],
   "source": [
    "plt.plot(x,y,'rx')\n",
    "plt.plot(x,coeff[0]*np.array(x)+coeff[1],'k--')"
   ],
   "metadata": {
    "collapsed": false,
    "pycharm": {
     "name": "#%%\n"
    }
   }
  },
  {
   "cell_type": "code",
   "execution_count": null,
   "outputs": [],
   "source": [
    "f = poly1d(coeff)\n",
    "print(f)"
   ],
   "metadata": {
    "collapsed": false,
    "pycharm": {
     "name": "#%%\n"
    }
   }
  },
  {
   "cell_type": "code",
   "execution_count": null,
   "outputs": [],
   "source": [
    "#预测值,实际值,误差\n",
    "print(f(2021),y[1],f(2021)-y[1])\n",
    "print(f(2022),y[0],f(2022)-y[0])"
   ],
   "metadata": {
    "collapsed": false,
    "pycharm": {
     "name": "#%%\n"
    }
   }
  },
  {
   "cell_type": "code",
   "execution_count": 3,
   "metadata": {},
   "outputs": [],
   "source": [
    "import matplotlib.pyplot as plt"
   ]
  },
  {
   "cell_type": "code",
   "execution_count": 9,
   "metadata": {},
   "outputs": [
    {
     "data": {
      "image/png": "[encoded data removed]",
      "text/plain": [
       "<Figure size 432x288 with 1 Axes>"
      ]
     },
     "metadata": {
      "needs_background": "light"
     },
     "output_type": "display_data"
    }
   ],
   "source": [
    "plt.scatter(year,total,label='美国人口')\n",
    "plt.show()"
   ]
  },
  {
   "cell_type": "markdown",
   "metadata": {},
   "source": [
    "一阶函数拟合"
   ]
  },
  {
   "cell_type": "code",
   "execution_count": 36,
   "metadata": {},
   "outputs": [],
   "source": [
    "from numpy import polyfit,poly1d\n",
    "import numpy as np"
   ]
  },
  {
   "cell_type": "code",
   "execution_count": 39,
   "metadata": {},
   "outputs": [
    {
     "name": "stdout",
     "output_type": "stream",
     "text": [
      "[331002651, 329064917, 327096265, 325084756, 323015995, 320878310, 318673411, 316400538, 314043885, 311584047, 309011475, 306307567, 303486012, 300608429, 297758969, 294993511, 292354658, 289815562, 287279318, 284607993, 281710909, 278548150, 275175301, 271713635, 268335003, 265163745, 262241196, 259532129, 256990613, 254539370, 252120309, 249725805, 247372264, 245052789, 242763148, 240499825, 238256844, 236030238, 233821844, 231636058, 229476354, 227339318, 225223303, 223135663, 221086429, 219081251, 217114909, 215178797, 213269802, 211384068, 209513341, 207659263, 205805754, 203905080, 201895760, 199733676, 197408505, 194932403, 192313746, 189569843, 186720571, 183786252, 180788392, 177751483, 174705003, 171685336, 168736387, 165910003, 163266028, 160872266, 158804395]\n"
     ]
    }
   ],
   "source": [
    "y = total[2:]\n",
    "print(y)"
   ]
  },
  {
   "cell_type": "code",
   "execution_count": 40,
   "metadata": {},
   "outputs": [
    {
     "name": "stdout",
     "output_type": "stream",
     "text": [
      "[2020, 2019, 2018, 2017, 2016, 2015, 2014, 2013, 2012, 2011, 2010, 2009, 2008, 2007, 2006, 2005, 2004, 2003, 2002, 2001, 2000, 1999, 1998, 1997, 1996, 1995, 1994, 1993, 1992, 1991, 1990, 1989, 1988, 1987, 1986, 1985, 1984, 1983, 1982, 1981, 1980, 1979, 1978, 1977, 1976, 1975, 1974, 1973, 1972, 1971, 1970, 1969, 1968, 1967, 1966, 1965, 1964, 1963, 1962, 1961, 1960, 1959, 1958, 1957, 1956, 1955, 1954, 1953, 1952, 1951, 1950]\n"
     ]
    }
   ],
   "source": [
    "x = year[2:]\n",
    "print(x)"
   ]
  },
  {
   "cell_type": "code",
   "execution_count": 41,
   "metadata": {},
   "outputs": [
    {
     "name": "stdout",
     "output_type": "stream",
     "text": [
      "[ 2.44611520e+06 -4.61085768e+09]\n"
     ]
    }
   ],
   "source": [
    "coeff = polyfit(x,y,1)\n",
    "print(coeff)"
   ]
  },
  {
   "cell_type": "code",
   "execution_count": 42,
   "metadata": {},
   "outputs": [
    {
     "data": {
      "text/plain": [
       "[<matplotlib.lines.Line2D at 0x1eda6eba370>]"
      ]
     },
     "execution_count": 42,
     "metadata": {},
     "output_type": "execute_result"
    },
    {
     "data": {
      "image/png": "[encoded data removed]",
      "text/plain": [
       "<Figure size 432x288 with 1 Axes>"
      ]
     },
     "metadata": {
      "needs_background": "light"
     },
     "output_type": "display_data"
    }
   ],
   "source": [
    "plt.plot(x,y,'rx')\n",
    "plt.plot(x,coeff[0]*np.array(x)+coeff[1],'k--')"
   ]
  },
  {
   "cell_type": "code",
   "execution_count": 43,
   "metadata": {},
   "outputs": [
    {
     "name": "stdout",
     "output_type": "stream",
     "text": [
      " \n",
      "2.446e+06 x - 4.611e+09\n"
     ]
    }
   ],
   "source": [
    "f = poly1d(coeff)\n",
    "print(f)"
   ]
  },
  {
   "cell_type": "code",
   "execution_count": 49,
   "metadata": {},
   "outputs": [
    {
     "name": "stdout",
     "output_type": "stream",
     "text": [
      "332741144.74849415 329064917 3676227.7484941483\n",
      "335187259.948863 331002651 4184608.9488630295\n"
     ]
    }
   ],
   "source": [
    "#预测值,实际值,误差\n",
    "print(f(2021),y[1],f(2021)-y[1])\n",
    "print(f(2022),y[0],f(2022)-y[0])"
   ]
  }
 ],
 "metadata": {
  "kernelspec": {
   "display_name": "Python 3",
   "language": "python",
   "name": "python3"
  },
  "language_info": {
   "codemirror_mode": {
    "name": "ipython",
    "version": 3
   },
   "file_extension": ".py",
   "mimetype": "text/x-python",
   "name": "python",
   "nbconvert_exporter": "python",
   "pygments_lexer": "ipython3",
   "version": "3.8.3"
  }
 },
 "nbformat": 4,
 "nbformat_minor": 1
}